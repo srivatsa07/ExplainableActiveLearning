************************************************
PCam Evaluation:
Accuracy: 0.8559
Accuracy for Negative: 0.9022 (5002 samples)
Accuracy for Positive: 0.8095 (4998 samples)

Confusion Matrix:
[[4513  489]
 [ 952 4046]]

Classification Report:
              precision    recall  f1-score   support

    Negative       0.83      0.90      0.86      5002
    Positive       0.89      0.81      0.85      4998

    accuracy                           0.86     10000
   macro avg       0.86      0.86      0.86     10000
weighted avg       0.86      0.86      0.86     10000

