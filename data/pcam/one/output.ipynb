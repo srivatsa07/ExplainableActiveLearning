
AL Cycle 1/20 | Labeled: 2000
Epoch 1: Train Loss: 0.8751 | Val Loss: 0.7311
Epoch 2: Train Loss: 0.6993 | Val Loss: 0.6438
Epoch 3: Train Loss: 0.6378 | Val Loss: 0.5968
Epoch 4: Train Loss: 0.5787 | Val Loss: 0.5712
Epoch 5: Train Loss: 0.5394 | Val Loss: 0.5244
Epoch 6: Train Loss: 0.4952 | Val Loss: 0.4913
Epoch 7: Train Loss: 0.4652 | Val Loss: 0.4701
Epoch 8: Train Loss: 0.4502 | Val Loss: 0.4567
Epoch 9: Train Loss: 0.4335 | Val Loss: 0.4490
Epoch 10: Train Loss: 0.4313 | Val Loss: 0.4336
Epoch 11: Train Loss: 0.4090 | Val Loss: 0.4273
Epoch 12: Train Loss: 0.4094 | Val Loss: 0.4330
Epoch 13: Train Loss: 0.3847 | Val Loss: 0.4351
Epoch 14: Train Loss: 0.3811 | Val Loss: 0.4275
Epoch 15: Train Loss: 0.3747 | Val Loss: 0.4274
Epoch 16: Train Loss: 0.3597 | Val Loss: 0.4181
Epoch 17: Train Loss: 0.3606 | Val Loss: 0.4143
Epoch 18: Train Loss: 0.3518 | Val Loss: 0.4245
Epoch 19: Train Loss: 0.3452 | Val Loss: 0.4174
Epoch 20: Train Loss: 0.3271 | Val Loss: 0.4144
Epoch 21: Train Loss: 0.3399 | Val Loss: 0.4240
Epoch 22: Train Loss: 0.3211 | Val Loss: 0.4044
Epoch 23: Train Loss: 0.3184 | Val Loss: 0.4156
Epoch 24: Train Loss: 0.3121 | Val Loss: 0.4140
Epoch 25: Train Loss: 0.2917 | Val Loss: 0.4063
Epoch 26: Train Loss: 0.2981 | Val Loss: 0.4292
Epoch 27: Train Loss: 0.2997 | Val Loss: 0.4053
Epoch 28: Train Loss: 0.2901 | Val Loss: 0.3992
Epoch 29: Train Loss: 0.2854 | Val Loss: 0.4316
Epoch 30: Train Loss: 0.2771 | Val Loss: 0.3950
Epoch 31: Train Loss: 0.2788 | Val Loss: 0.4062
Epoch 32: Train Loss: 0.2837 | Val Loss: 0.4278
Epoch 33: Train Loss: 0.2652 | Val Loss: 0.3983
Epoch 34: Train Loss: 0.2703 | Val Loss: 0.4016
Epoch 35: Train Loss: 0.2592 | Val Loss: 0.4013
Epoch 36: Train Loss: 0.2555 | Val Loss: 0.4028
Epoch 37: Train Loss: 0.2685 | Val Loss: 0.4024
Epoch 38: Train Loss: 0.2641 | Val Loss: 0.3987
Epoch 39: Train Loss: 0.2491 | Val Loss: 0.3956
Epoch 40: Train Loss: 0.2572 | Val Loss: 0.3947
Epoch 41: Train Loss: 0.2518 | Val Loss: 0.3948
Epoch 42: Train Loss: 0.2429 | Val Loss: 0.3968
Epoch 43: Train Loss: 0.2640 | Val Loss: 0.4002
Epoch 44: Train Loss: 0.2455 | Val Loss: 0.4031
Epoch 45: Train Loss: 0.2570 | Val Loss: 0.4017
Epoch 46: Train Loss: 0.2488 | Val Loss: 0.3985
Epoch 47: Train Loss: 0.2621 | Val Loss: 0.3982
Epoch 48: Train Loss: 0.2524 | Val Loss: 0.3975
Epoch 49: Train Loss: 0.2541 | Val Loss: 0.3969
Epoch 50: Train Loss: 0.2486 | Val Loss: 0.3966
Validation Accuracy: 0.820 | Validation Prec: 0.883 | Validation Recall: 0.739 | val F1: 0.804
Saved 100 XAI visualizations to data/xai_images/pcam/cycle_0
continuity done
compactness done
correctness done
consistency done

AL Cycle 2/20 | Labeled: 2100
Epoch 1: Train Loss: 0.5648 | Val Loss: 0.3916
Epoch 2: Train Loss: 0.3029 | Val Loss: 0.3682
Epoch 3: Train Loss: 0.2962 | Val Loss: 0.3823
Epoch 4: Train Loss: 0.2847 | Val Loss: 0.4394
Epoch 5: Train Loss: 0.2730 | Val Loss: 0.3802
Epoch 6: Train Loss: 0.2804 | Val Loss: 0.3791
Epoch 7: Train Loss: 0.2729 | Val Loss: 0.4182
Epoch 8: Train Loss: 0.2745 | Val Loss: 0.3811
Epoch 9: Train Loss: 0.2613 | Val Loss: 0.3771
Epoch 10: Train Loss: 0.2635 | Val Loss: 0.3740
Epoch 11: Train Loss: 0.2565 | Val Loss: 0.3724
Epoch 12: Train Loss: 0.2593 | Val Loss: 0.3728
Epoch 13: Train Loss: 0.2517 | Val Loss: 0.3748
Epoch 14: Train Loss: 0.2512 | Val Loss: 0.3779
Epoch 15: Train Loss: 0.2578 | Val Loss: 0.3783
Epoch 16: Train Loss: 0.2529 | Val Loss: 0.3787
Epoch 17: Train Loss: 0.2604 | Val Loss: 0.3791
Early stopping triggered!
Validation Accuracy: 0.834 | Validation Prec: 0.844 | Validation Recall: 0.819 | val F1: 0.831
Saved 100 XAI visualizations to data/xai_images/pcam/cycle_1
continuity done
compactness done
correctness done
consistency done

AL Cycle 3/20 | Labeled: 2200
Epoch 1: Train Loss: 0.5144 | Val Loss: 0.3850
Epoch 2: Train Loss: 0.3507 | Val Loss: 0.3990
Epoch 3: Train Loss: 0.3037 | Val Loss: 0.3791
Epoch 4: Train Loss: 0.3253 | Val Loss: 0.3814
Epoch 5: Train Loss: 0.3060 | Val Loss: 0.4042
Epoch 6: Train Loss: 0.3016 | Val Loss: 0.3669
Epoch 7: Train Loss: 0.2991 | Val Loss: 0.3618
Epoch 8: Train Loss: 0.2929 | Val Loss: 0.3859
Epoch 9: Train Loss: 0.2879 | Val Loss: 0.3820
Epoch 10: Train Loss: 0.2759 | Val Loss: 0.3652
Epoch 11: Train Loss: 0.2855 | Val Loss: 0.3741
Epoch 12: Train Loss: 0.2657 | Val Loss: 0.3906
Epoch 13: Train Loss: 0.2632 | Val Loss: 0.3828
Epoch 14: Train Loss: 0.2662 | Val Loss: 0.3810
Epoch 15: Train Loss: 0.2652 | Val Loss: 0.3800
Epoch 16: Train Loss: 0.2688 | Val Loss: 0.3793
Epoch 17: Train Loss: 0.2652 | Val Loss: 0.3786
Epoch 18: Train Loss: 0.2556 | Val Loss: 0.3789
Epoch 19: Train Loss: 0.2633 | Val Loss: 0.3791
Epoch 20: Train Loss: 0.2731 | Val Loss: 0.3792
Epoch 21: Train Loss: 0.2572 | Val Loss: 0.3792
Epoch 22: Train Loss: 0.2531 | Val Loss: 0.3793
Early stopping triggered!
Validation Accuracy: 0.837 | Validation Prec: 0.854 | Validation Recall: 0.811 | val F1: 0.832
Saved 100 XAI visualizations to data/xai_images/pcam/cycle_2
continuity done
compactness done
correctness done
consistency done

AL Cycle 4/20 | Labeled: 2300
Epoch 1: Train Loss: 0.4719 | Val Loss: 0.3740
Epoch 2: Train Loss: 0.3428 | Val Loss: 0.3752
Epoch 3: Train Loss: 0.3382 | Val Loss: 0.3707
Epoch 4: Train Loss: 0.3152 | Val Loss: 0.3911
Epoch 5: Train Loss: 0.3248 | Val Loss: 0.3834
Epoch 6: Train Loss: 0.3023 | Val Loss: 0.3613
Epoch 7: Train Loss: 0.3021 | Val Loss: 0.3656
Epoch 8: Train Loss: 0.2887 | Val Loss: 0.3944
Epoch 9: Train Loss: 0.2974 | Val Loss: 0.3753
Epoch 10: Train Loss: 0.2863 | Val Loss: 0.3608
Epoch 11: Train Loss: 0.2781 | Val Loss: 0.3655
Epoch 12: Train Loss: 0.2733 | Val Loss: 0.3704
Epoch 13: Train Loss: 0.2678 | Val Loss: 0.3547
Epoch 14: Train Loss: 0.2652 | Val Loss: 0.3701
Epoch 15: Train Loss: 0.2659 | Val Loss: 0.3992
Epoch 16: Train Loss: 0.2623 | Val Loss: 0.3722
Epoch 17: Train Loss: 0.2644 | Val Loss: 0.3639
Epoch 18: Train Loss: 0.2550 | Val Loss: 0.3830
Epoch 19: Train Loss: 0.2619 | Val Loss: 0.3661
Epoch 20: Train Loss: 0.2494 | Val Loss: 0.3661
Early stopping triggered!
Validation Accuracy: 0.846 | Validation Prec: 0.872 | Validation Recall: 0.810 | val F1: 0.840
Saved 100 XAI visualizations to data/xai_images/pcam/cycle_3
continuity done
compactness done
correctness done
consistency done

AL Cycle 5/20 | Labeled: 2400
Epoch 1: Train Loss: 0.4314 | Val Loss: 0.3635
Epoch 2: Train Loss: 0.3287 | Val Loss: 0.3749
Epoch 3: Train Loss: 0.3145 | Val Loss: 0.3735
Epoch 4: Train Loss: 0.3160 | Val Loss: 0.3802
Epoch 5: Train Loss: 0.3045 | Val Loss: 0.3808
Epoch 6: Train Loss: 0.2899 | Val Loss: 0.3447
Epoch 7: Train Loss: 0.2958 | Val Loss: 0.3463
Epoch 8: Train Loss: 0.2954 | Val Loss: 0.3687
Epoch 9: Train Loss: 0.2978 | Val Loss: 0.3686
Epoch 10: Train Loss: 0.2755 | Val Loss: 0.3534
Epoch 11: Train Loss: 0.2835 | Val Loss: 0.3577
Epoch 12: Train Loss: 0.2795 | Val Loss: 0.3738
Epoch 13: Train Loss: 0.2849 | Val Loss: 0.3730
Early stopping triggered!
Validation Accuracy: 0.849 | Validation Prec: 0.871 | Validation Recall: 0.820 | val F1: 0.845
Saved 100 XAI visualizations to data/xai_images/pcam/cycle_4
continuity done
compactness done
correctness done
consistency done

AL Cycle 6/20 | Labeled: 2500
Epoch 1: Train Loss: 0.4395 | Val Loss: 0.3579
Epoch 2: Train Loss: 0.3482 | Val Loss: 0.3525
Epoch 3: Train Loss: 0.3065 | Val Loss: 0.3539
Epoch 4: Train Loss: 0.2808 | Val Loss: 0.3914
Epoch 5: Train Loss: 0.2900 | Val Loss: 0.3550
Epoch 6: Train Loss: 0.3108 | Val Loss: 0.3562
Epoch 7: Train Loss: 0.2957 | Val Loss: 0.3519
Epoch 8: Train Loss: 0.2795 | Val Loss: 0.3473
Epoch 9: Train Loss: 0.2840 | Val Loss: 0.3748
Epoch 10: Train Loss: 0.3195 | Val Loss: 0.3610
Epoch 11: Train Loss: 0.2929 | Val Loss: 0.3642
Epoch 12: Train Loss: 0.3035 | Val Loss: 0.3604
Epoch 13: Train Loss: 0.2772 | Val Loss: 0.3599
Epoch 14: Train Loss: 0.2830 | Val Loss: 0.3592
Epoch 15: Train Loss: 0.3120 | Val Loss: 0.3560
Early stopping triggered!
Validation Accuracy: 0.853 | Validation Prec: 0.880 | Validation Recall: 0.817 | val F1: 0.848
Saved 100 XAI visualizations to data/xai_images/pcam/cycle_5
continuity done
compactness done
correctness done
consistency done

AL Cycle 7/20 | Labeled: 2600
Epoch 1: Train Loss: 0.3855 | Val Loss: 0.3489
Epoch 2: Train Loss: 0.3327 | Val Loss: 0.3541
Epoch 3: Train Loss: 0.3195 | Val Loss: 0.3528
Epoch 4: Train Loss: 0.3322 | Val Loss: 0.3535
Epoch 5: Train Loss: 0.3112 | Val Loss: 0.3707
Epoch 6: Train Loss: 0.3062 | Val Loss: 0.3605
Epoch 7: Train Loss: 0.3075 | Val Loss: 0.3581
Epoch 8: Train Loss: 0.2847 | Val Loss: 0.3604
Early stopping triggered!
Validation Accuracy: 0.850 | Validation Prec: 0.861 | Validation Recall: 0.835 | val F1: 0.848
Saved 100 XAI visualizations to data/xai_images/pcam/cycle_6
continuity done
compactness done
correctness done
consistency done

AL Cycle 8/20 | Labeled: 2700
Epoch 1: Train Loss: 0.4024 | Val Loss: 0.3553
Epoch 2: Train Loss: 0.3284 | Val Loss: 0.3391
Epoch 3: Train Loss: 0.3227 | Val Loss: 0.3419
Epoch 4: Train Loss: 0.3331 | Val Loss: 0.3341
Epoch 5: Train Loss: 0.3159 | Val Loss: 0.3770
Epoch 6: Train Loss: 0.3347 | Val Loss: 0.3555
Epoch 7: Train Loss: 0.3128 | Val Loss: 0.3877
Epoch 8: Train Loss: 0.3188 | Val Loss: 0.3422
Epoch 9: Train Loss: 0.3047 | Val Loss: 0.3408
Epoch 10: Train Loss: 0.3039 | Val Loss: 0.3272
Epoch 11: Train Loss: 0.2983 | Val Loss: 0.3218
Epoch 12: Train Loss: 0.2980 | Val Loss: 0.3488
Epoch 13: Train Loss: 0.2906 | Val Loss: 0.3324
Epoch 14: Train Loss: 0.2922 | Val Loss: 0.3291
Epoch 15: Train Loss: 0.2926 | Val Loss: 0.3220
Epoch 16: Train Loss: 0.2788 | Val Loss: 0.3348
Epoch 17: Train Loss: 0.2873 | Val Loss: 0.3534
Epoch 18: Train Loss: 0.2677 | Val Loss: 0.3482
Early stopping triggered!
Validation Accuracy: 0.858 | Validation Prec: 0.888 | Validation Recall: 0.820 | val F1: 0.852
Saved 100 XAI visualizations to data/xai_images/pcam/cycle_7
continuity done
compactness done
correctness done
consistency done

AL Cycle 9/20 | Labeled: 2800
Epoch 1: Train Loss: 0.3795 | Val Loss: 0.3219
Epoch 2: Train Loss: 0.3271 | Val Loss: 0.3434
Epoch 3: Train Loss: 0.3133 | Val Loss: 0.3567
Epoch 4: Train Loss: 0.3148 | Val Loss: 0.3164
Epoch 5: Train Loss: 0.3191 | Val Loss: 0.3506
Epoch 6: Train Loss: 0.3052 | Val Loss: 0.3355
Epoch 7: Train Loss: 0.3024 | Val Loss: 0.3323
Epoch 8: Train Loss: 0.2738 | Val Loss: 0.3229
Epoch 9: Train Loss: 0.2878 | Val Loss: 0.3479
Epoch 10: Train Loss: 0.2804 | Val Loss: 0.3280
Epoch 11: Train Loss: 0.2869 | Val Loss: 0.3300
Early stopping triggered!
Validation Accuracy: 0.861 | Validation Prec: 0.888 | Validation Recall: 0.825 | val F1: 0.856
Saved 100 XAI visualizations to data/xai_images/pcam/cycle_8
continuity done
compactness done
correctness done
consistency done

AL Cycle 10/20 | Labeled: 2900
Epoch 1: Train Loss: 0.3878 | Val Loss: 0.3226
Epoch 2: Train Loss: 0.3226 | Val Loss: 0.3291
Epoch 3: Train Loss: 0.3185 | Val Loss: 0.3567
Epoch 4: Train Loss: 0.3200 | Val Loss: 0.3308
Epoch 5: Train Loss: 0.3094 | Val Loss: 0.3424
Epoch 6: Train Loss: 0.2931 | Val Loss: 0.3225
Epoch 7: Train Loss: 0.2991 | Val Loss: 0.3493
Epoch 8: Train Loss: 0.3020 | Val Loss: 0.3255
Epoch 9: Train Loss: 0.2847 | Val Loss: 0.3518
Epoch 10: Train Loss: 0.2704 | Val Loss: 0.3251
Epoch 11: Train Loss: 0.2910 | Val Loss: 0.3583
Epoch 12: Train Loss: 0.2815 | Val Loss: 0.3246
Epoch 13: Train Loss: 0.2865 | Val Loss: 0.3262
Early stopping triggered!
Validation Accuracy: 0.861 | Validation Prec: 0.893 | Validation Recall: 0.819 | val F1: 0.855
Saved 100 XAI visualizations to data/xai_images/pcam/cycle_9
continuity done
compactness done
correctness done
consistency done

AL Cycle 11/20 | Labeled: 3000
Epoch 1: Train Loss: 0.3685 | Val Loss: 0.3236
Epoch 2: Train Loss: 0.3393 | Val Loss: 0.3311
Epoch 3: Train Loss: 0.3341 | Val Loss: 0.3728
Epoch 4: Train Loss: 0.3320 | Val Loss: 0.3165
Epoch 5: Train Loss: 0.3096 | Val Loss: 0.3196
Epoch 6: Train Loss: 0.3096 | Val Loss: 0.3466
Epoch 7: Train Loss: 0.3098 | Val Loss: 0.3149
Epoch 8: Train Loss: 0.3063 | Val Loss: 0.3385
Epoch 9: Train Loss: 0.3091 | Val Loss: 0.3251
Epoch 10: Train Loss: 0.2929 | Val Loss: 0.3313
Epoch 11: Train Loss: 0.3035 | Val Loss: 0.3328
Epoch 12: Train Loss: 0.2844 | Val Loss: 0.3103
Epoch 13: Train Loss: 0.2719 | Val Loss: 0.3286
Epoch 14: Train Loss: 0.2824 | Val Loss: 0.3164
Epoch 15: Train Loss: 0.2753 | Val Loss: 0.3368
Epoch 16: Train Loss: 0.2763 | Val Loss: 0.3226
Epoch 17: Train Loss: 0.2676 | Val Loss: 0.3276
Epoch 18: Train Loss: 0.2804 | Val Loss: 0.3451
Epoch 19: Train Loss: 0.2603 | Val Loss: 0.3440
Early stopping triggered!
Validation Accuracy: 0.867 | Validation Prec: 0.909 | Validation Recall: 0.814 | val F1: 0.859
Saved 100 XAI visualizations to data/xai_images/pcam/cycle_10
continuity done
compactness done
correctness done
consistency done

AL Cycle 12/20 | Labeled: 3100
Epoch 1: Train Loss: 0.3500 | Val Loss: 0.3168
Epoch 2: Train Loss: 0.3170 | Val Loss: 0.3231
Epoch 3: Train Loss: 0.3136 | Val Loss: 0.3430
Epoch 4: Train Loss: 0.2990 | Val Loss: 0.3129
Epoch 5: Train Loss: 0.3001 | Val Loss: 0.3263
Epoch 6: Train Loss: 0.2899 | Val Loss: 0.3469
Epoch 7: Train Loss: 0.2869 | Val Loss: 0.3195
Epoch 8: Train Loss: 0.2800 | Val Loss: 0.3620
Epoch 9: Train Loss: 0.2821 | Val Loss: 0.3335
Epoch 10: Train Loss: 0.2833 | Val Loss: 0.3508
Epoch 11: Train Loss: 0.2738 | Val Loss: 0.3521
Early stopping triggered!
Validation Accuracy: 0.864 | Validation Prec: 0.911 | Validation Recall: 0.808 | val F1: 0.856
Saved 100 XAI visualizations to data/xai_images/pcam/cycle_11
continuity done
compactness done
correctness done
consistency done

AL Cycle 13/20 | Labeled: 3200
Epoch 1: Train Loss: 0.3514 | Val Loss: 0.3232
Epoch 2: Train Loss: 0.3163 | Val Loss: 0.3154
Epoch 3: Train Loss: 0.3148 | Val Loss: 0.3482
Epoch 4: Train Loss: 0.3120 | Val Loss: 0.3160
Epoch 5: Train Loss: 0.3023 | Val Loss: 0.3452
Epoch 6: Train Loss: 0.2927 | Val Loss: 0.3251
Epoch 7: Train Loss: 0.2886 | Val Loss: 0.3633
Epoch 8: Train Loss: 0.2856 | Val Loss: 0.3194
Epoch 9: Train Loss: 0.2943 | Val Loss: 0.3236
Early stopping triggered!
Validation Accuracy: 0.864 | Validation Prec: 0.882 | Validation Recall: 0.839 | val F1: 0.860
Saved 100 XAI visualizations to data/xai_images/pcam/cycle_12
continuity done
compactness done
correctness done
consistency done

AL Cycle 14/20 | Labeled: 3300
Epoch 1: Train Loss: 0.3631 | Val Loss: 0.3150
Epoch 2: Train Loss: 0.3489 | Val Loss: 0.3165
Epoch 3: Train Loss: 0.3390 | Val Loss: 0.3475
Epoch 4: Train Loss: 0.3324 | Val Loss: 0.3178
Epoch 5: Train Loss: 0.3028 | Val Loss: 0.3124
Epoch 6: Train Loss: 0.3114 | Val Loss: 0.3372
Epoch 7: Train Loss: 0.2969 | Val Loss: 0.3288
Epoch 8: Train Loss: 0.2948 | Val Loss: 0.3521
Epoch 9: Train Loss: 0.2981 | Val Loss: 0.3264
Epoch 10: Train Loss: 0.2974 | Val Loss: 0.3269
Epoch 11: Train Loss: 0.2831 | Val Loss: 0.3233
Epoch 12: Train Loss: 0.2876 | Val Loss: 0.3182
Early stopping triggered!
Validation Accuracy: 0.866 | Validation Prec: 0.896 | Validation Recall: 0.828 | val F1: 0.861
Saved 100 XAI visualizations to data/xai_images/pcam/cycle_13
continuity done
compactness done
correctness done
consistency done

AL Cycle 15/20 | Labeled: 3400
Epoch 1: Train Loss: 0.3635 | Val Loss: 0.3138
Epoch 2: Train Loss: 0.3476 | Val Loss: 0.3113
Epoch 3: Train Loss: 0.3303 | Val Loss: 0.3517
Epoch 4: Train Loss: 0.3162 | Val Loss: 0.3098
Epoch 5: Train Loss: 0.3072 | Val Loss: 0.3154
Epoch 6: Train Loss: 0.3035 | Val Loss: 0.3120
Epoch 7: Train Loss: 0.2988 | Val Loss: 0.3320
Epoch 8: Train Loss: 0.3035 | Val Loss: 0.3201
Epoch 9: Train Loss: 0.2967 | Val Loss: 0.3340
Epoch 10: Train Loss: 0.2850 | Val Loss: 0.3011
Epoch 11: Train Loss: 0.2893 | Val Loss: 0.3417
Epoch 12: Train Loss: 0.2782 | Val Loss: 0.3105
Epoch 13: Train Loss: 0.2796 | Val Loss: 0.3411
Epoch 14: Train Loss: 0.2805 | Val Loss: 0.2989
Epoch 15: Train Loss: 0.2711 | Val Loss: 0.3387
Epoch 16: Train Loss: 0.2735 | Val Loss: 0.3059
Epoch 17: Train Loss: 0.2754 | Val Loss: 0.3468
Epoch 18: Train Loss: 0.2793 | Val Loss: 0.3043
Epoch 19: Train Loss: 0.2648 | Val Loss: 0.3423
Epoch 20: Train Loss: 0.2632 | Val Loss: 0.2949
Epoch 21: Train Loss: 0.2709 | Val Loss: 0.3573
Epoch 22: Train Loss: 0.2635 | Val Loss: 0.3120
Epoch 23: Train Loss: 0.2483 | Val Loss: 0.3516
Epoch 24: Train Loss: 0.2615 | Val Loss: 0.2990
Epoch 25: Train Loss: 0.2573 | Val Loss: 0.3349
Epoch 26: Train Loss: 0.2476 | Val Loss: 0.3094
Epoch 27: Train Loss: 0.2593 | Val Loss: 0.3124
Early stopping triggered!
Validation Accuracy: 0.880 | Validation Prec: 0.898 | Validation Recall: 0.856 | val F1: 0.877
Saved 100 XAI visualizations to data/xai_images/pcam/cycle_14
continuity done
compactness done
correctness done
consistency done

AL Cycle 16/20 | Labeled: 3500
Epoch 1: Train Loss: 0.3428 | Val Loss: 0.2993
Epoch 2: Train Loss: 0.3090 | Val Loss: 0.2929
Epoch 3: Train Loss: 0.2867 | Val Loss: 0.3238
Epoch 4: Train Loss: 0.2806 | Val Loss: 0.2952
Epoch 5: Train Loss: 0.2843 | Val Loss: 0.2992
Epoch 6: Train Loss: 0.2737 | Val Loss: 0.3240
Epoch 7: Train Loss: 0.2661 | Val Loss: 0.3005
Epoch 8: Train Loss: 0.2651 | Val Loss: 0.3408
Epoch 9: Train Loss: 0.2683 | Val Loss: 0.3370
Early stopping triggered!
Validation Accuracy: 0.878 | Validation Prec: 0.895 | Validation Recall: 0.856 | val F1: 0.875
Saved 100 XAI visualizations to data/xai_images/pcam/cycle_15
continuity done
compactness done
correctness done
consistency done

AL Cycle 17/20 | Labeled: 3600
Epoch 1: Train Loss: 0.3507 | Val Loss: 0.2972
Epoch 2: Train Loss: 0.2991 | Val Loss: 0.2959
Epoch 3: Train Loss: 0.3070 | Val Loss: 0.3717
Epoch 4: Train Loss: 0.3014 | Val Loss: 0.2981
Epoch 5: Train Loss: 0.2972 | Val Loss: 0.3391
Epoch 6: Train Loss: 0.2761 | Val Loss: 0.3057
Epoch 7: Train Loss: 0.2771 | Val Loss: 0.3215
Epoch 8: Train Loss: 0.2695 | Val Loss: 0.3127
Epoch 9: Train Loss: 0.2787 | Val Loss: 0.3168
Early stopping triggered!
Validation Accuracy: 0.875 | Validation Prec: 0.884 | Validation Recall: 0.863 | val F1: 0.874
Saved 100 XAI visualizations to data/xai_images/pcam/cycle_16
continuity done
compactness done
correctness done
consistency done

AL Cycle 18/20 | Labeled: 3700
Epoch 1: Train Loss: 0.3586 | Val Loss: 0.3083
Epoch 2: Train Loss: 0.3563 | Val Loss: 0.3041
Epoch 3: Train Loss: 0.3060 | Val Loss: 0.3316
Epoch 4: Train Loss: 0.3093 | Val Loss: 0.3344
Epoch 5: Train Loss: 0.3368 | Val Loss: 0.3348
Epoch 6: Train Loss: 0.3297 | Val Loss: 0.3467
Epoch 7: Train Loss: 0.2936 | Val Loss: 0.3713
Epoch 8: Train Loss: 0.2946 | Val Loss: 0.3270
Epoch 9: Train Loss: 0.2841 | Val Loss: 0.3257
Early stopping triggered!
Validation Accuracy: 0.868 | Validation Prec: 0.918 | Validation Recall: 0.806 | val F1: 0.859
Saved 100 XAI visualizations to data/xai_images/pcam/cycle_17
continuity done
compactness done
correctness done
consistency done

AL Cycle 19/20 | Labeled: 3800
Epoch 1: Train Loss: 0.3447 | Val Loss: 0.3089
Epoch 2: Train Loss: 0.3231 | Val Loss: 0.3294
Epoch 3: Train Loss: 0.3093 | Val Loss: 0.3115
Epoch 4: Train Loss: 0.3074 | Val Loss: 0.3200
Epoch 5: Train Loss: 0.2983 | Val Loss: 0.3471
Epoch 6: Train Loss: 0.3010 | Val Loss: 0.3165
Epoch 7: Train Loss: 0.2889 | Val Loss: 0.3052
Epoch 8: Train Loss: 0.3143 | Val Loss: 0.3591
Epoch 9: Train Loss: 0.2926 | Val Loss: 0.3490
Epoch 10: Train Loss: 0.2995 | Val Loss: 0.3067
Epoch 11: Train Loss: 0.2936 | Val Loss: 0.3798
Epoch 12: Train Loss: 0.2783 | Val Loss: 0.3032
Epoch 13: Train Loss: 0.2766 | Val Loss: 0.3902
Epoch 14: Train Loss: 0.2783 | Val Loss: 0.2967
Epoch 15: Train Loss: 0.2694 | Val Loss: 0.3554
Epoch 16: Train Loss: 0.2798 | Val Loss: 0.2971
Epoch 17: Train Loss: 0.2914 | Val Loss: 0.3452
Epoch 18: Train Loss: 0.2762 | Val Loss: 0.3130
Epoch 19: Train Loss: 0.2725 | Val Loss: 0.3246
Epoch 20: Train Loss: 0.2638 | Val Loss: 0.3272
Epoch 21: Train Loss: 0.2695 | Val Loss: 0.3248
Early stopping triggered!
Validation Accuracy: 0.878 | Validation Prec: 0.896 | Validation Recall: 0.855 | val F1: 0.875
Saved 100 XAI visualizations to data/xai_images/pcam/cycle_18
continuity done
compactness done
correctness done
consistency done

AL Cycle 20/20 | Labeled: 3900
Epoch 1: Train Loss: 0.3334 | Val Loss: 0.3067
Epoch 2: Train Loss: 0.3055 | Val Loss: 0.2955
Epoch 3: Train Loss: 0.2852 | Val Loss: 0.3299
Epoch 4: Train Loss: 0.2814 | Val Loss: 0.3241
Epoch 5: Train Loss: 0.3021 | Val Loss: 0.3189
Epoch 6: Train Loss: 0.2753 | Val Loss: 0.3370
Epoch 7: Train Loss: 0.2692 | Val Loss: 0.3205
Epoch 8: Train Loss: 0.2616 | Val Loss: 0.3111
Epoch 9: Train Loss: 0.2667 | Val Loss: 0.3215
Early stopping triggered!
Validation Accuracy: 0.873 | Validation Prec: 0.895 | Validation Recall: 0.845 | val F1: 0.870
Saved 100 XAI visualizations to data/xai_images/pcam/cycle_19
continuity done
compactness done
correctness done
consistency done
