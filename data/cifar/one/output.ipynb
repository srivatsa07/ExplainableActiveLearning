
AL Cycle 1/20 | Labeled: 2000
Epoch 1: Train Loss: 2.4402 | Val Loss: 2.0308
Epoch 2: Train Loss: 1.8617 | Val Loss: 1.4158
Epoch 3: Train Loss: 1.1579 | Val Loss: 0.8401
Epoch 4: Train Loss: 0.7432 | Val Loss: 0.5891
Epoch 5: Train Loss: 0.4840 | Val Loss: 0.5751
Epoch 6: Train Loss: 0.3818 | Val Loss: 0.4685
Epoch 7: Train Loss: 0.2818 | Val Loss: 0.3907
Epoch 8: Train Loss: 0.1852 | Val Loss: 0.3925
Epoch 9: Train Loss: 0.1468 | Val Loss: 0.3455
Epoch 10: Train Loss: 0.0887 | Val Loss: 0.4274
Epoch 11: Train Loss: 0.0758 | Val Loss: 0.3639
Epoch 12: Train Loss: 0.0491 | Val Loss: 0.3617
Epoch 13: Train Loss: 0.0275 | Val Loss: 0.4185
Epoch 14: Train Loss: 0.0210 | Val Loss: 0.4046
Epoch 15: Train Loss: 0.0178 | Val Loss: 0.3909
Epoch 16: Train Loss: 0.0146 | Val Loss: 0.3679
Epoch 17: Train Loss: 0.0102 | Val Loss: 0.3674
Epoch 18: Train Loss: 0.0090 | Val Loss: 0.3675
Epoch 19: Train Loss: 0.0086 | Val Loss: 0.3574
Epoch 20: Train Loss: 0.0086 | Val Loss: 0.3579
Epoch 21: Train Loss: 0.0086 | Val Loss: 0.3612
Epoch 22: Train Loss: 0.0084 | Val Loss: 0.3568
Epoch 23: Train Loss: 0.0095 | Val Loss: 0.3631
Epoch 24: Train Loss: 0.0092 | Val Loss: 0.3541
Early stopping triggered!
Validation Accuracy: 0.890 | Validation Prec: 0.892 | Validation Recall: 0.890 | val F1: 0.890
Saved 100 XAI visualizations to data/xai_images/cifar10/cycle_0
continuity done
compactness done
correctness done
consistency done

AL Cycle 2/20 | Labeled: 2100
Epoch 1: Train Loss: 0.7659 | Val Loss: 0.3763
Epoch 2: Train Loss: 1.5733 | Val Loss: 0.7951
Epoch 3: Train Loss: 0.8957 | Val Loss: 1.4160
Epoch 4: Train Loss: 1.1956 | Val Loss: 0.9358
Epoch 5: Train Loss: 0.8897 | Val Loss: 0.9605
Epoch 6: Train Loss: 0.9083 | Val Loss: 0.9405
Epoch 7: Train Loss: 0.8780 | Val Loss: 0.8930
Epoch 8: Train Loss: 0.8161 | Val Loss: 0.8327
Epoch 9: Train Loss: 0.7510 | Val Loss: 0.7741
Epoch 10: Train Loss: 0.6981 | Val Loss: 0.7699
Epoch 11: Train Loss: 0.6953 | Val Loss: 0.7642
Epoch 12: Train Loss: 0.6821 | Val Loss: 0.7570
Epoch 13: Train Loss: 0.6773 | Val Loss: 0.7519
Epoch 14: Train Loss: 0.6721 | Val Loss: 0.7506
Epoch 15: Train Loss: 0.6795 | Val Loss: 0.7503
Epoch 16: Train Loss: 0.6693 | Val Loss: 0.7485
Early stopping triggered!
Validation Accuracy: 0.878 | Validation Prec: 0.882 | Validation Recall: 0.878 | val F1: 0.878
Saved 100 XAI visualizations to data/xai_images/cifar10/cycle_1
continuity done
compactness done
correctness done
consistency done

AL Cycle 3/20 | Labeled: 2200
Epoch 1: Train Loss: 0.5244 | Val Loss: 0.3440
Epoch 2: Train Loss: 1.3680 | Val Loss: 0.8468
Epoch 3: Train Loss: 0.8365 | Val Loss: 1.0473
Epoch 4: Train Loss: 0.8837 | Val Loss: 0.8194
Epoch 5: Train Loss: 0.7875 | Val Loss: 0.6756
Epoch 6: Train Loss: 0.6274 | Val Loss: 0.6399
Epoch 7: Train Loss: 0.5804 | Val Loss: 0.5886
Epoch 8: Train Loss: 0.5241 | Val Loss: 0.5353
Epoch 9: Train Loss: 0.4636 | Val Loss: 0.4854
Epoch 10: Train Loss: 0.4211 | Val Loss: 0.4817
Epoch 11: Train Loss: 0.4119 | Val Loss: 0.4760
Epoch 12: Train Loss: 0.4057 | Val Loss: 0.4706
Epoch 13: Train Loss: 0.4011 | Val Loss: 0.4668
Epoch 14: Train Loss: 0.3983 | Val Loss: 0.4650
Epoch 15: Train Loss: 0.3997 | Val Loss: 0.4647
Epoch 16: Train Loss: 0.3901 | Val Loss: 0.4658
Early stopping triggered!
Validation Accuracy: 0.894 | Validation Prec: 0.897 | Validation Recall: 0.894 | val F1: 0.894
Saved 100 XAI visualizations to data/xai_images/cifar10/cycle_2
continuity done
compactness done
correctness done
consistency done

AL Cycle 4/20 | Labeled: 2300
Epoch 1: Train Loss: 0.3987 | Val Loss: 0.3303
Epoch 2: Train Loss: 0.8886 | Val Loss: 1.0350
Epoch 3: Train Loss: 0.8803 | Val Loss: 0.8152
Epoch 4: Train Loss: 0.7709 | Val Loss: 0.6007
Epoch 5: Train Loss: 0.5071 | Val Loss: 0.4110
Epoch 6: Train Loss: 0.3345 | Val Loss: 0.3961
Early stopping triggered!
Validation Accuracy: 0.893 | Validation Prec: 0.897 | Validation Recall: 0.893 | val F1: 0.894
Saved 100 XAI visualizations to data/xai_images/cifar10/cycle_3
continuity done
compactness done
correctness done
consistency done

AL Cycle 5/20 | Labeled: 2400
Epoch 1: Train Loss: 0.2934 | Val Loss: 0.3154
Epoch 2: Train Loss: 0.8510 | Val Loss: 0.7008
Epoch 3: Train Loss: 0.6918 | Val Loss: 0.6271
Epoch 4: Train Loss: 0.4895 | Val Loss: 0.4620
Epoch 5: Train Loss: 0.3346 | Val Loss: 0.3874
Epoch 6: Train Loss: 0.2427 | Val Loss: 0.3646
Early stopping triggered!
Validation Accuracy: 0.899 | Validation Prec: 0.903 | Validation Recall: 0.899 | val F1: 0.899
Saved 100 XAI visualizations to data/xai_images/cifar10/cycle_4
continuity done
compactness done
correctness done
consistency done

AL Cycle 6/20 | Labeled: 2500
Epoch 1: Train Loss: 0.2194 | Val Loss: 0.2806
Epoch 2: Train Loss: 0.5319 | Val Loss: 0.8075
Epoch 3: Train Loss: 0.5792 | Val Loss: 0.7235
Epoch 4: Train Loss: 0.5631 | Val Loss: 0.5567
Epoch 5: Train Loss: 0.3720 | Val Loss: 0.3396
Epoch 6: Train Loss: 0.2062 | Val Loss: 0.3233
Early stopping triggered!
Validation Accuracy: 0.913 | Validation Prec: 0.915 | Validation Recall: 0.913 | val F1: 0.913
Saved 100 XAI visualizations to data/xai_images/cifar10/cycle_5
continuity done
compactness done
correctness done
consistency done

AL Cycle 7/20 | Labeled: 2600
Epoch 1: Train Loss: 0.1853 | Val Loss: 0.2965
Epoch 2: Train Loss: 0.5553 | Val Loss: 0.7646
Epoch 3: Train Loss: 0.4946 | Val Loss: 0.4284
Epoch 4: Train Loss: 0.3351 | Val Loss: 0.3767
Epoch 5: Train Loss: 0.2019 | Val Loss: 0.2962
Epoch 6: Train Loss: 0.1230 | Val Loss: 0.3455
Epoch 7: Train Loss: 0.0835 | Val Loss: 0.3811
Epoch 8: Train Loss: 0.0573 | Val Loss: 0.3544
Epoch 9: Train Loss: 0.0438 | Val Loss: 0.3842
Epoch 10: Train Loss: 0.0287 | Val Loss: 0.3579
Early stopping triggered!
Validation Accuracy: 0.908 | Validation Prec: 0.909 | Validation Recall: 0.908 | val F1: 0.908
Saved 100 XAI visualizations to data/xai_images/cifar10/cycle_6
continuity done
compactness done
correctness done
consistency done

AL Cycle 8/20 | Labeled: 2700
Epoch 1: Train Loss: 0.1338 | Val Loss: 0.3047
Epoch 2: Train Loss: 0.4232 | Val Loss: 0.8499
Epoch 3: Train Loss: 0.5014 | Val Loss: 0.4549
Epoch 4: Train Loss: 0.3834 | Val Loss: 0.5112
Epoch 5: Train Loss: 0.2249 | Val Loss: 0.3164
Epoch 6: Train Loss: 0.1379 | Val Loss: 0.2943
Epoch 7: Train Loss: 0.1060 | Val Loss: 0.2730
Epoch 8: Train Loss: 0.0808 | Val Loss: 0.2696
Epoch 9: Train Loss: 0.0740 | Val Loss: 0.2736
Epoch 10: Train Loss: 0.0629 | Val Loss: 0.2740
Epoch 11: Train Loss: 0.0512 | Val Loss: 0.2664
Epoch 12: Train Loss: 0.0414 | Val Loss: 0.2610
Epoch 13: Train Loss: 0.0345 | Val Loss: 0.2627
Epoch 14: Train Loss: 0.0359 | Val Loss: 0.2606
Epoch 15: Train Loss: 0.0294 | Val Loss: 0.2616
Epoch 16: Train Loss: 0.0280 | Val Loss: 0.2658
Epoch 17: Train Loss: 0.0230 | Val Loss: 0.2635
Epoch 18: Train Loss: 0.0228 | Val Loss: 0.2706
Epoch 19: Train Loss: 0.0180 | Val Loss: 0.2619
Early stopping triggered!
Validation Accuracy: 0.922 | Validation Prec: 0.922 | Validation Recall: 0.922 | val F1: 0.922
Saved 100 XAI visualizations to data/xai_images/cifar10/cycle_7
continuity done
compactness done
correctness done
consistency done

AL Cycle 9/20 | Labeled: 2800
Epoch 1: Train Loss: 0.1017 | Val Loss: 0.2670
Epoch 2: Train Loss: 0.6383 | Val Loss: 0.8532
Epoch 3: Train Loss: 0.8254 | Val Loss: 0.6108
Epoch 4: Train Loss: 0.5594 | Val Loss: 0.5052
Epoch 5: Train Loss: 0.4018 | Val Loss: 0.3572
Epoch 6: Train Loss: 0.2346 | Val Loss: 0.3387
Early stopping triggered!
Validation Accuracy: 0.915 | Validation Prec: 0.919 | Validation Recall: 0.916 | val F1: 0.915
Saved 100 XAI visualizations to data/xai_images/cifar10/cycle_8
continuity done
compactness done
correctness done
consistency done

AL Cycle 10/20 | Labeled: 2900
Epoch 1: Train Loss: 0.0986 | Val Loss: 0.2552
Epoch 2: Train Loss: 0.3318 | Val Loss: 0.5521
Epoch 3: Train Loss: 0.2317 | Val Loss: 0.3403
Epoch 4: Train Loss: 0.1519 | Val Loss: 0.2984
Epoch 5: Train Loss: 0.0574 | Val Loss: 0.3311
Epoch 6: Train Loss: 0.0643 | Val Loss: 0.3046
Early stopping triggered!
Validation Accuracy: 0.918 | Validation Prec: 0.920 | Validation Recall: 0.918 | val F1: 0.918
Saved 100 XAI visualizations to data/xai_images/cifar10/cycle_9
continuity done
compactness done
correctness done
consistency done

AL Cycle 11/20 | Labeled: 3000
Epoch 1: Train Loss: 0.0985 | Val Loss: 0.2395
Epoch 2: Train Loss: 0.6856 | Val Loss: 0.9643
Epoch 3: Train Loss: 0.8868 | Val Loss: 0.6418
Epoch 4: Train Loss: 0.6335 | Val Loss: 0.4438
Epoch 5: Train Loss: 0.3302 | Val Loss: 0.3225
Epoch 6: Train Loss: 0.1844 | Val Loss: 0.3028
Early stopping triggered!
Validation Accuracy: 0.920 | Validation Prec: 0.921 | Validation Recall: 0.920 | val F1: 0.920
Saved 100 XAI visualizations to data/xai_images/cifar10/cycle_10
continuity done
compactness done
correctness done
consistency done

AL Cycle 12/20 | Labeled: 3100
Epoch 1: Train Loss: 0.1103 | Val Loss: 0.2683
Epoch 2: Train Loss: 0.6154 | Val Loss: 1.2111
Epoch 3: Train Loss: 1.0514 | Val Loss: 0.8134
Epoch 4: Train Loss: 0.7375 | Val Loss: 0.4860
Epoch 5: Train Loss: 0.3617 | Val Loss: 0.2989
Epoch 6: Train Loss: 0.2201 | Val Loss: 0.2859
Early stopping triggered!
Validation Accuracy: 0.915 | Validation Prec: 0.917 | Validation Recall: 0.915 | val F1: 0.916
Saved 100 XAI visualizations to data/xai_images/cifar10/cycle_11
continuity done
compactness done
correctness done
consistency done

AL Cycle 13/20 | Labeled: 3200
Epoch 1: Train Loss: 0.0886 | Val Loss: 0.2392
Epoch 2: Train Loss: 0.6745 | Val Loss: 1.1315
Epoch 3: Train Loss: 1.1737 | Val Loss: 0.9871
Epoch 4: Train Loss: 1.0515 | Val Loss: 0.6858
Epoch 5: Train Loss: 0.6874 | Val Loss: 0.4528
Epoch 6: Train Loss: 0.4647 | Val Loss: 0.4348
Early stopping triggered!
Validation Accuracy: 0.920 | Validation Prec: 0.921 | Validation Recall: 0.920 | val F1: 0.920
Saved 100 XAI visualizations to data/xai_images/cifar10/cycle_12
continuity done
compactness done
correctness done
consistency done

AL Cycle 14/20 | Labeled: 3300
Epoch 1: Train Loss: 0.0919 | Val Loss: 0.2541
Epoch 2: Train Loss: 0.4558 | Val Loss: 0.7837
Epoch 3: Train Loss: 0.3946 | Val Loss: 0.3959
Epoch 4: Train Loss: 0.2836 | Val Loss: 0.3247
Epoch 5: Train Loss: 0.1211 | Val Loss: 0.3131
Epoch 6: Train Loss: 0.0974 | Val Loss: 0.3013
Early stopping triggered!
Validation Accuracy: 0.918 | Validation Prec: 0.920 | Validation Recall: 0.918 | val F1: 0.918
Saved 100 XAI visualizations to data/xai_images/cifar10/cycle_13
continuity done
compactness done
correctness done
consistency done

AL Cycle 15/20 | Labeled: 3400
Epoch 1: Train Loss: 0.0984 | Val Loss: 0.2474
Epoch 2: Train Loss: 0.3867 | Val Loss: 0.9317
Epoch 3: Train Loss: 0.8944 | Val Loss: 0.6715
Epoch 4: Train Loss: 0.5969 | Val Loss: 0.4095
Epoch 5: Train Loss: 0.3138 | Val Loss: 0.4140
Epoch 6: Train Loss: 0.3025 | Val Loss: 0.3619
Early stopping triggered!
Validation Accuracy: 0.922 | Validation Prec: 0.923 | Validation Recall: 0.922 | val F1: 0.922
Saved 100 XAI visualizations to data/xai_images/cifar10/cycle_14
continuity done
compactness done
correctness done
consistency done

AL Cycle 16/20 | Labeled: 3500
Epoch 1: Train Loss: 0.0814 | Val Loss: 0.2563
Epoch 2: Train Loss: 0.3650 | Val Loss: 0.4543
Epoch 3: Train Loss: 0.3379 | Val Loss: 0.3360
Epoch 4: Train Loss: 0.2115 | Val Loss: 0.2743
Epoch 5: Train Loss: 0.0817 | Val Loss: 0.3631
Epoch 6: Train Loss: 0.0912 | Val Loss: 0.2998
Early stopping triggered!
Validation Accuracy: 0.920 | Validation Prec: 0.921 | Validation Recall: 0.920 | val F1: 0.920
Saved 100 XAI visualizations to data/xai_images/cifar10/cycle_15
continuity done
compactness done
correctness done
consistency done

AL Cycle 17/20 | Labeled: 3600
Epoch 1: Train Loss: 0.0709 | Val Loss: 0.2448
Epoch 2: Train Loss: 0.7034 | Val Loss: 0.7016
Epoch 3: Train Loss: 0.8879 | Val Loss: 0.6632
Epoch 4: Train Loss: 0.6027 | Val Loss: 0.3677
Epoch 5: Train Loss: 0.2639 | Val Loss: 0.3278
Epoch 6: Train Loss: 0.1896 | Val Loss: 0.3030
Early stopping triggered!
Validation Accuracy: 0.921 | Validation Prec: 0.923 | Validation Recall: 0.921 | val F1: 0.922
Saved 100 XAI visualizations to data/xai_images/cifar10/cycle_16
continuity done
compactness done
correctness done
consistency done

AL Cycle 18/20 | Labeled: 3700
Epoch 1: Train Loss: 0.0726 | Val Loss: 0.2870
Epoch 2: Train Loss: 0.6514 | Val Loss: 1.2252
Epoch 3: Train Loss: 0.9517 | Val Loss: 0.7176
Epoch 4: Train Loss: 0.5986 | Val Loss: 0.3949
Epoch 5: Train Loss: 0.2809 | Val Loss: 0.3332
Epoch 6: Train Loss: 0.1582 | Val Loss: 0.3301
Early stopping triggered!
Validation Accuracy: 0.905 | Validation Prec: 0.909 | Validation Recall: 0.905 | val F1: 0.905
Saved 100 XAI visualizations to data/xai_images/cifar10/cycle_17
continuity done
compactness done
correctness done
consistency done

AL Cycle 19/20 | Labeled: 3800
Epoch 1: Train Loss: 0.0556 | Val Loss: 0.2509
Epoch 2: Train Loss: 0.6677 | Val Loss: 0.8010
Epoch 3: Train Loss: 0.6146 | Val Loss: 0.4859
Epoch 4: Train Loss: 0.3788 | Val Loss: 0.3026
Epoch 5: Train Loss: 0.1600 | Val Loss: 0.3488
Epoch 6: Train Loss: 0.1153 | Val Loss: 0.3308
Early stopping triggered!
Validation Accuracy: 0.919 | Validation Prec: 0.919 | Validation Recall: 0.919 | val F1: 0.918
Saved 100 XAI visualizations to data/xai_images/cifar10/cycle_18
continuity done
compactness done
correctness done
consistency done

AL Cycle 20/20 | Labeled: 3900
Epoch 1: Train Loss: 0.0601 | Val Loss: 0.2507
Epoch 2: Train Loss: 0.7262 | Val Loss: 0.9065
Epoch 3: Train Loss: 0.8049 | Val Loss: 0.5892
Epoch 4: Train Loss: 0.4366 | Val Loss: 0.3489
Epoch 5: Train Loss: 0.1974 | Val Loss: 0.3134
Epoch 6: Train Loss: 0.0923 | Val Loss: 0.3032
Early stopping triggered!
Validation Accuracy: 0.923 | Validation Prec: 0.925 | Validation Recall: 0.923 | val F1: 0.923
Saved 100 XAI visualizations to data/xai_images/cifar10/cycle_19
continuity done
compactness done
correctness done
consistency done
Validation Accuracy: 0.923 | Precision: 0.925 | Recall: 0.923 | F1: 0.923
Saved tables to: /home/jovyan/data/tables
