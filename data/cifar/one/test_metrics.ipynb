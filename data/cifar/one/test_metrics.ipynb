CIFAR-10 Evaluation:
Accuracy: 0.9219
Accuracy for airplane: 0.9200 (1000 samples)
Accuracy for automobile: 0.9320 (1000 samples)
Accuracy for bird: 0.9460 (1000 samples)
Accuracy for cat: 0.8720 (1000 samples)
Accuracy for deer: 0.9320 (1000 samples)
Accuracy for dog: 0.8940 (1000 samples)
Accuracy for frog: 0.8760 (1000 samples)
Accuracy for horse: 0.9480 (1000 samples)
Accuracy for ship: 0.9300 (1000 samples)
Accuracy for truck: 0.9690 (1000 samples)

Confusion Matrix:
[[920   2  28   4   3   0   1   3  19  20]
 [  1 932   1   0   0   0   0   0   3  63]
 [  4   0 946  14  20   7   4   3   2   0]
 [  3   1  21 872  15  69   5   9   3   2]
 [  1   0  23   9 932   9   0  24   1   1]
 [  0   0  11  68  14 894   1  12   0   0]
 [  6   0  44  45  18   6 876   1   3   1]
 [  2   0   5   3  23  16   1 948   0   2]
 [ 44   4   5   3   0   1   0   1 930  12]
 [  4  20   0   1   0   0   0   0   6 969]]

Classification Report:
              precision    recall  f1-score   support

    airplane       0.93      0.92      0.93      1000
  automobile       0.97      0.93      0.95      1000
        bird       0.87      0.95      0.91      1000
         cat       0.86      0.87      0.86      1000
        deer       0.91      0.93      0.92      1000
         dog       0.89      0.89      0.89      1000
        frog       0.99      0.88      0.93      1000
       horse       0.95      0.95      0.95      1000
        ship       0.96      0.93      0.95      1000
       truck       0.91      0.97      0.94      1000

    accuracy                           0.92     10000
   macro avg       0.92      0.92      0.92     10000
weighted avg       0.92      0.92      0.92     10000

************************************************
